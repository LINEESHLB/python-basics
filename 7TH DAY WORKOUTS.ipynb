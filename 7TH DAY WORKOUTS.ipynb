{
 "cells": [
  {
   "cell_type": "markdown",
   "id": "7bb7bdee",
   "metadata": {},
   "source": [
    "Create a Class with instance attributes"
   ]
  },
  {
   "cell_type": "code",
   "execution_count": null,
   "id": "b4308615",
   "metadata": {},
   "outputs": [],
   "source": [
    "class person:\n",
    "    def __init__(self,name,age):\n",
    "        self.name=name\n",
    "        self.age=age\n",
    "        print(\"name is {} \".format(self.name))\n",
    "        print(\"age is {} \".format(self.age))\n",
    "obj=person(\"lineesh\",30)\n"
   ]
  },
  {
   "cell_type": "markdown",
   "id": "c5890a0d",
   "metadata": {},
   "source": [
    "Create a Vehicle class without any variables and methods"
   ]
  },
  {
   "cell_type": "code",
   "execution_count": null,
   "id": "60e5de49",
   "metadata": {},
   "outputs": [],
   "source": [
    "class vehicle:\n",
    "    def __init__(self):\n",
    "        pass\n",
    "    "
   ]
  },
  {
   "cell_type": "markdown",
   "id": "c9fe0f82",
   "metadata": {},
   "source": [
    "Create a child class Bus that will inherit all of the variables and methods of the Vehicle class.\n",
    "Create a Bus class that inherits from the Vehicle class. Give the capacity argument of Bus.seating_capacity() a default value of 50."
   ]
  },
  {
   "cell_type": "markdown",
   "id": "a9154448",
   "metadata": {},
   "source": [
    "class vehicle:\n",
    "    def __init__(self,name,model,price):\n",
    "        self.name=name\n",
    "        self.model=model\n",
    "        self.price=price\n",
    "        print(\"The Bus name is {},{},{}\".format(self.name,self.model,self.price))\n",
    "class bus(vehicle):\n",
    "    def seat(self,capacity=50):\n",
    "        print(\"Capacity\",capacity)\n",
    "        \n",
    "obj=bus(\"TATA \",\" model 2022 \",\" price = 27 lakh\")\n",
    "obj.seat()\n",
    "        "
   ]
  },
  {
   "cell_type": "markdown",
   "id": "bf7fd7db",
   "metadata": {},
   "source": [
    "Define a property that must have the same value for every class instance (object)"
   ]
  },
  {
   "cell_type": "code",
   "execution_count": null,
   "id": "a856a268",
   "metadata": {},
   "outputs": [],
   "source": [
    "class Vehicle:\n",
    "\n",
    "    def __init__(self, name,speed, mileage):\n",
    "        self.name =name\n",
    "        self.speed =speed\n",
    "        self.mileage =mileage\n",
    "\n",
    "class Bus(Vehicle):\n",
    "    pass\n",
    "\n",
    "class Car(Vehicle):\n",
    "    pass"
   ]
  },
  {
   "cell_type": "markdown",
   "id": "0d745f7a",
   "metadata": {},
   "source": [
    "Check type of an object"
   ]
  },
  {
   "cell_type": "code",
   "execution_count": null,
   "id": "f1d4096e",
   "metadata": {},
   "outputs": [],
   "source": [
    "class Vehicle:\n",
    "    def __init__(self, name,speed, mileage):\n",
    "        self.name =name\n",
    "        self.speed =speed\n",
    "        self.mileage =mileage\n",
    "        print(\"{},{},{}\".format(self.name,self.speed,self.mileage))\n",
    "class Bus(Vehicle):\n",
    "    pass\n",
    "obj=Bus(\"lineesh\",250,20)\n",
    "c=type(obj)\n",
    "print(c)\n",
    "\n"
   ]
  },
  {
   "cell_type": "markdown",
   "id": "6b9b3173",
   "metadata": {},
   "source": [
    "Determine if School_bus is also an instance of the Vehicle class"
   ]
  },
  {
   "cell_type": "code",
   "execution_count": null,
   "id": "b7aa23d7",
   "metadata": {},
   "outputs": [],
   "source": [
    "class Vehicle:\n",
    "    def __init__(self, name, mileage, capacity):\n",
    "        self.name = name\n",
    "        self.mileage = mileage\n",
    "        self.capacity = capacity\n",
    "        \n",
    "\n",
    "class Bus(Vehicle):\n",
    "    def display(self):\n",
    "        print(\"{},{},{}\".format(self.name,self.mileage,self.capacity))\n",
    "obj=Bus(\"TATA\",10,48)\n",
    "obj.display()"
   ]
  },
  {
   "cell_type": "markdown",
   "id": "460d1304",
   "metadata": {},
   "source": [
    "Write a Python class named Student with two attributes student_id, student_name. Add a new attribute student_class. Create a function to display the entire attribute and their values in Student class."
   ]
  },
  {
   "cell_type": "code",
   "execution_count": null,
   "id": "8cdd8388",
   "metadata": {},
   "outputs": [],
   "source": [
    "class student:\n",
    "    def __init__(self,name,id):\n",
    "        self.name=name\n",
    "        self.id=id\n",
    "        \n",
    "    def hi(self):\n",
    "        student_clas=5\n",
    "        print(\"{},{},{}\".format(self.name,self.id,student_clas))\n",
    "obj=student(\"lineesh\",123)\n",
    "obj.hi()"
   ]
  },
  {
   "cell_type": "markdown",
   "id": "60b3387c",
   "metadata": {},
   "source": [
    "Write a Python class which has two methods get_String and print_String. get_String accept a string from the user and print_String print the string in upper case."
   ]
  },
  {
   "cell_type": "code",
   "execution_count": null,
   "id": "3f1844f5",
   "metadata": {},
   "outputs": [],
   "source": [
    "class strg:\n",
    "    def __init__(self):\n",
    "        self.str1 =input(\"Enter your string values\")\n",
    "    def print_String(self):\n",
    "        print(self.str1.upper())\n",
    "\n",
    "str1=strg()\n",
    "str1.print_String()\n"
   ]
  },
  {
   "cell_type": "code",
   "execution_count": null,
   "id": "a9b63c71",
   "metadata": {},
   "outputs": [],
   "source": [
    "class student:\n",
    "    def nam():\n",
    "        pass\n",
    "    def out(nam):\n",
    "        name=input(\"entre your name\")\n",
    "        print(name.upper())\n",
    "obj=student()\n",
    "obj.out()"
   ]
  },
  {
   "cell_type": "markdown",
   "id": "84241b92",
   "metadata": {},
   "source": [
    "Write a Python class named Rectangle constructed by a length and width and a method which will compute the area of a rectangle."
   ]
  },
  {
   "cell_type": "code",
   "execution_count": null,
   "id": "090959fc",
   "metadata": {},
   "outputs": [],
   "source": [
    "class rectangle:\n",
    "    def area(self):\n",
    "        length=int(input(\"Enter your rectangle length\"))\n",
    "        width=int(input(\"Enter your rectangle width\"))\n",
    "        print(length*width) \n",
    "obj=rectangle()\n",
    "obj.area()                       \n",
    "                       \n",
    "        \n",
    "    \n",
    "    "
   ]
  },
  {
   "cell_type": "markdown",
   "id": "6cc27093",
   "metadata": {},
   "source": [
    "Create a Python class Person with attributes: name and age.Create a child class Student  which inherits from the Person class\n",
    "\n",
    "Create a method displayStudent() that displays the name, age"
   ]
  },
  {
   "cell_type": "code",
   "execution_count": null,
   "id": "a1d32c0c",
   "metadata": {},
   "outputs": [],
   "source": [
    "class person:\n",
    "    def __init__(self,name,age):\n",
    "        self.name=name\n",
    "        self.age=age\n",
    "    def a(self):\n",
    "        print(\"{},{}\".format(self.name,self.age))\n",
    "obj=person(\"lineesh\",32)\n",
    "obj.a()\n",
    "class student(person):\n",
    "    pass\n",
    "obj=student()\n",
    "obj.a()"
   ]
  },
  {
   "cell_type": "markdown",
   "id": "31d6274e",
   "metadata": {},
   "source": [
    "Create a Python class called BankAccount which represents a bank account, having as attributes: accountNumber (numeric type), name (name of the account owner as string type), balance."
   ]
  },
  {
   "cell_type": "code",
   "execution_count": null,
   "id": "d993ab70",
   "metadata": {},
   "outputs": [],
   "source": [
    "class bank_account:\n",
    "    def bank(self):\n",
    "        account=int(input(\"enter your account\"))\n",
    "        name=input(\"enter your name\")\n",
    "        balance=int(input(\"enter your balance\"))\n",
    "        print(account,\"\\n\", name,\"\\n\", balance)\n",
    "    \n",
    "        \n",
    "                          \n",
    "obj=bank_account()\n",
    "obj.bank()                          \n",
    "\n",
    "        \n",
    "    "
   ]
  },
  {
   "cell_type": "markdown",
   "id": "e542a0aa",
   "metadata": {},
   "source": [
    "find sq-rt of a number python"
   ]
  },
  {
   "cell_type": "code",
   "execution_count": null,
   "id": "a3e761b9",
   "metadata": {},
   "outputs": [],
   "source": [
    "from math import sqrt \n",
    "a=sqrt(4)\n",
    "print(a)\n",
    "\n"
   ]
  },
  {
   "cell_type": "markdown",
   "id": "72fb3da4",
   "metadata": {},
   "source": [
    "find factorial of a given number"
   ]
  },
  {
   "cell_type": "code",
   "execution_count": null,
   "id": "8fe615e0",
   "metadata": {},
   "outputs": [],
   "source": [
    "from math import factorial\n",
    "a=factorial(5)\n",
    "print(a)"
   ]
  },
  {
   "cell_type": "markdown",
   "id": "56dccde5",
   "metadata": {},
   "source": [
    "display the current date"
   ]
  },
  {
   "cell_type": "code",
   "execution_count": null,
   "id": "c89e3e54",
   "metadata": {},
   "outputs": [],
   "source": [
    "import datetime\n",
    "now = datetime.datetime.now()\n",
    "print(\"Current date and time: \")\n",
    "print(str(now))"
   ]
  },
  {
   "cell_type": "code",
   "execution_count": null,
   "id": "ca953297",
   "metadata": {},
   "outputs": [],
   "source": [
    "import datetime\n",
    "now=datetime.datetime.now()\n",
    "print(str(now))\n",
    "type(now)"
   ]
  },
  {
   "cell_type": "markdown",
   "id": "c02d8770",
   "metadata": {},
   "source": [
    "find the lowest or highest value"
   ]
  },
  {
   "cell_type": "code",
   "execution_count": null,
   "id": "e44a43cc",
   "metadata": {},
   "outputs": [],
   "source": [
    "a=(1,2,3,4,5)\n",
    "b=max(a)\n",
    "print(b)"
   ]
  },
  {
   "cell_type": "markdown",
   "id": "20774412",
   "metadata": {},
   "source": [
    "find absolute  value python"
   ]
  },
  {
   "cell_type": "code",
   "execution_count": null,
   "id": "f0edfae3",
   "metadata": {},
   "outputs": [],
   "source": [
    "\n",
    "c=abs(-23)\n"
   ]
  },
  {
   "cell_type": "markdown",
   "id": "4a625a4d",
   "metadata": {},
   "source": [
    "find value of 4 to the power of 3"
   ]
  },
  {
   "cell_type": "code",
   "execution_count": null,
   "id": "905f7b39",
   "metadata": {},
   "outputs": [],
   "source": [
    "\n",
    "c=pow(2,5)\n",
    "print(c)"
   ]
  },
  {
   "cell_type": "code",
   "execution_count": 20,
   "id": "2c2b0c8c",
   "metadata": {},
   "outputs": [
    {
     "data": {
      "text/plain": [
       "['good evng All real numbers (whether an integer or a decimal) can be positive or negative. But in situations where we deal with only non-negative (positive) values; then the term absolute value comes in. The absolute value of a number is the value of the number without considering its sign. Of course, a program can be written to return the absolute value in python. ']"
      ]
     },
     "execution_count": 20,
     "metadata": {},
     "output_type": "execute_result"
    }
   ],
   "source": [
    "f=open(\"lb.txt\",\"r\")\n",
    "f.readlines()"
   ]
  },
  {
   "cell_type": "code",
   "execution_count": 19,
   "id": "9687f475",
   "metadata": {},
   "outputs": [
    {
     "data": {
      "text/plain": [
       "367"
      ]
     },
     "execution_count": 19,
     "metadata": {},
     "output_type": "execute_result"
    }
   ],
   "source": [
    "f=open(\"lb.txt\",\"w\")\n",
    "f.write(\"good evng All real numbers (whether an integer or a decimal) can be positive or negative. But in situations where we deal with only non-negative (positive) values; then the term absolute value comes in. The absolute value of a number is the value of the number without considering its sign. Of course, a program can be written to return the absolute value in python. \")"
   ]
  },
  {
   "cell_type": "markdown",
   "id": "9b359094",
   "metadata": {},
   "source": [
    "DIRECTORY"
   ]
  },
  {
   "cell_type": "code",
   "execution_count": 14,
   "id": "826e7422",
   "metadata": {},
   "outputs": [
    {
     "data": {
      "text/plain": [
       "'C:\\\\Users\\\\HP'"
      ]
     },
     "execution_count": 14,
     "metadata": {},
     "output_type": "execute_result"
    }
   ],
   "source": [
    "import os\n",
    "os.getcwd()"
   ]
  },
  {
   "cell_type": "code",
   "execution_count": null,
   "id": "4e382bf6",
   "metadata": {},
   "outputs": [],
   "source": []
  },
  {
   "cell_type": "code",
   "execution_count": null,
   "id": "79ce79b7",
   "metadata": {},
   "outputs": [],
   "source": []
  }
 ],
 "metadata": {
  "kernelspec": {
   "display_name": "Python 3 (ipykernel)",
   "language": "python",
   "name": "python3"
  },
  "language_info": {
   "codemirror_mode": {
    "name": "ipython",
    "version": 3
   },
   "file_extension": ".py",
   "mimetype": "text/x-python",
   "name": "python",
   "nbconvert_exporter": "python",
   "pygments_lexer": "ipython3",
   "version": "3.9.13"
  }
 },
 "nbformat": 4,
 "nbformat_minor": 5
}
